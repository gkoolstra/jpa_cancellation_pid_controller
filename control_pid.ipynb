{
 "cells": [
  {
   "cell_type": "code",
   "execution_count": 1,
   "metadata": {
    "ExecuteTime": {
     "end_time": "2020-05-09T22:26:55.714304Z",
     "start_time": "2020-05-09T22:26:54.187965Z"
    }
   },
   "outputs": [],
   "source": [
    "import pickle, glob, matplotlib\n",
    "from matplotlib import pyplot as plt\n",
    "import numpy as np\n",
    "import os, sys, serial, time, visdom\n",
    "from tqdm import tqdm, trange\n",
    "from tabulate import tabulate\n",
    "sys.path.append(r\"C:\\Users\\gkoolstra\\Documents\\Code\\qtrl\")\n",
    "sys.path.append(r\"C:\\Users\\gkoolstra\\Documents\\Arduino\\PID_control_sketch\")\n",
    "from pid import ArduinoPID\n",
    "from qtrl.fitting import common, fit\n",
    "\n",
    "%load_ext autoreload\n",
    "%autoreload 2"
   ]
  },
  {
   "cell_type": "markdown",
   "metadata": {},
   "source": [
    "<img src=\"Figures/PID_Schematic.png\">"
   ]
  },
  {
   "cell_type": "markdown",
   "metadata": {},
   "source": [
    "# Initialize the controller and turn off ramping "
   ]
  },
  {
   "cell_type": "code",
   "execution_count": 2,
   "metadata": {
    "ExecuteTime": {
     "end_time": "2020-05-09T22:26:59.478275Z",
     "start_time": "2020-05-09T22:26:57.292732Z"
    }
   },
   "outputs": [
    {
     "name": "stderr",
     "output_type": "stream",
     "text": [
      "Setting up a new session...\n"
     ]
    },
    {
     "name": "stdout",
     "output_type": "stream",
     "text": [
      "PID Initialized!\n"
     ]
    }
   ],
   "source": [
    "Arnie = ArduinoPID()"
   ]
  },
  {
   "cell_type": "code",
   "execution_count": 3,
   "metadata": {
    "ExecuteTime": {
     "end_time": "2020-05-09T22:27:02.080575Z",
     "start_time": "2020-05-09T22:27:02.018648Z"
    }
   },
   "outputs": [],
   "source": [
    "Arnie.dev.flush()"
   ]
  },
  {
   "cell_type": "code",
   "execution_count": 4,
   "metadata": {
    "ExecuteTime": {
     "end_time": "2020-05-09T22:27:03.271226Z",
     "start_time": "2020-05-09T22:27:02.945400Z"
    }
   },
   "outputs": [],
   "source": [
    "Arnie.set_ramping(False)"
   ]
  },
  {
   "cell_type": "code",
   "execution_count": 5,
   "metadata": {
    "ExecuteTime": {
     "end_time": "2020-05-09T22:27:14.170821Z",
     "start_time": "2020-05-09T22:27:09.005310Z"
    }
   },
   "outputs": [
    {
     "name": "stderr",
     "output_type": "stream",
     "text": [
      "100%|██████████████████████████████████████████████████████████████████████████████████| 10/10 [00:05<00:00,  1.97it/s]"
     ]
    },
    {
     "name": "stdout",
     "output_type": "stream",
     "text": [
      "╒════════════════════╤════════════════╕\n",
      "│ Function call      │ Result         │\n",
      "╞════════════════════╪════════════════╡\n",
      "│ get_display_mode   │ V              │\n",
      "├────────────────────┼────────────────┤\n",
      "│ get_manual_status  │ 0              │\n",
      "├────────────────────┼────────────────┤\n",
      "│ get_ramping_status │ 0              │\n",
      "├────────────────────┼────────────────┤\n",
      "│ get_cts_dac_value  │ 0.0            │\n",
      "├────────────────────┼────────────────┤\n",
      "│ get_input          │ 0.008056640625 │\n",
      "├────────────────────┼────────────────┤\n",
      "│ get_output         │ 0.0            │\n",
      "├────────────────────┼────────────────┤\n",
      "│ get_setpoint       │ 0.0            │\n",
      "├────────────────────┼────────────────┤\n",
      "│ get_Kp             │ 2.0            │\n",
      "├────────────────────┼────────────────┤\n",
      "│ get_Ki             │ 5.0            │\n",
      "├────────────────────┼────────────────┤\n",
      "│ get_Kd             │ 0.0            │\n",
      "╘════════════════════╧════════════════╛\n"
     ]
    },
    {
     "name": "stderr",
     "output_type": "stream",
     "text": [
      "\n"
     ]
    }
   ],
   "source": [
    "Arnie.test_sequence()"
   ]
  },
  {
   "cell_type": "markdown",
   "metadata": {},
   "source": [
    "# Monitor noise on the input"
   ]
  },
  {
   "cell_type": "code",
   "execution_count": 6,
   "metadata": {
    "ExecuteTime": {
     "end_time": "2020-04-03T03:32:59.761558Z",
     "start_time": "2020-04-03T03:32:59.428209Z"
    }
   },
   "outputs": [],
   "source": [
    "Arnie.set_ramping(False)"
   ]
  },
  {
   "cell_type": "code",
   "execution_count": 7,
   "metadata": {
    "ExecuteTime": {
     "end_time": "2020-04-03T03:33:05.960728Z",
     "start_time": "2020-04-03T03:33:05.884881Z"
    }
   },
   "outputs": [],
   "source": [
    "Arnie.set_manual_output(0.5, output=True)"
   ]
  },
  {
   "cell_type": "code",
   "execution_count": 8,
   "metadata": {
    "ExecuteTime": {
     "end_time": "2020-04-03T03:33:08.992878Z",
     "start_time": "2020-04-03T03:33:08.676720Z"
    }
   },
   "outputs": [
    {
     "data": {
      "text/plain": [
       "1"
      ]
     },
     "execution_count": 8,
     "metadata": {},
     "output_type": "execute_result"
    }
   ],
   "source": [
    "Arnie.get_manual_status()"
   ]
  },
  {
   "cell_type": "code",
   "execution_count": 10,
   "metadata": {
    "ExecuteTime": {
     "end_time": "2020-04-03T03:34:57.240123Z",
     "start_time": "2020-04-03T03:34:09.949031Z"
    }
   },
   "outputs": [
    {
     "name": "stdout",
     "output_type": "stream",
     "text": [
      "Input noise on the controller is 0.56mV\n"
     ]
    },
    {
     "data": {
      "text/plain": [
       "Text(0, 0.5, 'Input voltage (V)')"
      ]
     },
     "execution_count": 10,
     "metadata": {},
     "output_type": "execute_result"
    },
    {
     "data": {
      "image/png": "[encoded data removed]",
      "text/plain": [
       "<Figure size 432x288 with 1 Axes>"
      ]
     },
     "metadata": {
      "needs_background": "light"
     },
     "output_type": "display_data"
    }
   ],
   "source": [
    "inp = Arnie.monitor_controller(100)\n",
    "print(f\"Input noise on the controller is {np.std(inp)*1e3:.2f}mV\")\n",
    "\n",
    "plt.figure()\n",
    "plt.plot(inp)\n",
    "plt.xlabel('Time')\n",
    "plt.ylabel('Input voltage (V)')"
   ]
  },
  {
   "cell_type": "markdown",
   "metadata": {},
   "source": [
    "# Test the PID controller to a step response"
   ]
  },
  {
   "cell_type": "code",
   "execution_count": 6,
   "metadata": {
    "ExecuteTime": {
     "end_time": "2020-05-09T22:27:29.065864Z",
     "start_time": "2020-05-09T22:27:28.486003Z"
    }
   },
   "outputs": [],
   "source": [
    "Arnie.set_ramping(False)\n",
    "Arnie.set_manual_output(None, output=False)"
   ]
  },
  {
   "cell_type": "code",
   "execution_count": 7,
   "metadata": {
    "ExecuteTime": {
     "end_time": "2020-05-09T22:27:37.428166Z",
     "start_time": "2020-05-09T22:27:34.327720Z"
    }
   },
   "outputs": [],
   "source": [
    "Arnie.set_tuning_parameters(0.01, 2.5, 0.00)"
   ]
  },
  {
   "cell_type": "code",
   "execution_count": 8,
   "metadata": {
    "ExecuteTime": {
     "end_time": "2020-05-09T22:27:39.136191Z",
     "start_time": "2020-05-09T22:27:39.073693Z"
    }
   },
   "outputs": [],
   "source": [
    "Arnie.dev.flush()"
   ]
  },
  {
   "cell_type": "code",
   "execution_count": 13,
   "metadata": {
    "ExecuteTime": {
     "end_time": "2020-05-09T22:29:11.992800Z",
     "start_time": "2020-05-09T22:29:11.925978Z"
    }
   },
   "outputs": [],
   "source": [
    "Arnie.set_setpoint(1.0)"
   ]
  },
  {
   "cell_type": "code",
   "execution_count": 14,
   "metadata": {
    "ExecuteTime": {
     "end_time": "2020-05-09T22:30:00.614789Z",
     "start_time": "2020-05-09T22:29:12.068343Z"
    }
   },
   "outputs": [
    {
     "name": "stdout",
     "output_type": "stream",
     "text": [
      "Input noise on the controller is 12.22mV\n"
     ]
    },
    {
     "data": {
      "text/plain": [
       "Text(0, 0.5, 'Input voltage (V)')"
      ]
     },
     "execution_count": 14,
     "metadata": {},
     "output_type": "execute_result"
    },
    {
     "data": {
      "image/png": "[encoded data removed]",
      "text/plain": [
       "<Figure size 432x288 with 1 Axes>"
      ]
     },
     "metadata": {
      "needs_background": "light"
     },
     "output_type": "display_data"
    }
   ],
   "source": [
    "# target = 0.5\n",
    "# Arnie.set_setpoint(target)\n",
    "# time.sleep(0.25)\n",
    "inp = Arnie.monitor_controller(100)\n",
    "print(f\"Input noise on the controller is {np.std(inp)*1e3:.2f}mV\")\n",
    "\n",
    "plt.figure()\n",
    "plt.plot(inp)\n",
    "plt.xlabel('Time')\n",
    "plt.ylabel('Input voltage (V)')"
   ]
  },
  {
   "cell_type": "markdown",
   "metadata": {},
   "source": [
    "# Test minimizer of the `cts_dac_output`"
   ]
  },
  {
   "cell_type": "code",
   "execution_count": 17,
   "metadata": {
    "ExecuteTime": {
     "end_time": "2020-04-03T03:36:42.089511Z",
     "start_time": "2020-04-03T03:36:41.766488Z"
    }
   },
   "outputs": [
    {
     "data": {
      "text/plain": [
       "0.0"
      ]
     },
     "execution_count": 17,
     "metadata": {},
     "output_type": "execute_result"
    }
   ],
   "source": [
    "Arnie.get_Kd()"
   ]
  },
  {
   "cell_type": "code",
   "execution_count": 19,
   "metadata": {
    "ExecuteTime": {
     "end_time": "2020-04-03T03:36:58.968559Z",
     "start_time": "2020-04-03T03:36:53.877419Z"
    }
   },
   "outputs": [
    {
     "name": "stderr",
     "output_type": "stream",
     "text": [
      "100%|██████████████████████████████████████████████████████████████████████████████████| 10/10 [00:05<00:00,  1.99it/s]"
     ]
    },
    {
     "name": "stdout",
     "output_type": "stream",
     "text": [
      "╒════════════════════╤═══════════════════╕\n",
      "│ Function call      │ Result            │\n",
      "╞════════════════════╪═══════════════════╡\n",
      "│ get_display_mode   │ V                 │\n",
      "├────────────────────┼───────────────────┤\n",
      "│ get_manual_status  │ 0                 │\n",
      "├────────────────────┼───────────────────┤\n",
      "│ get_ramping_status │ 0                 │\n",
      "├────────────────────┼───────────────────┤\n",
      "│ get_cts_dac_value  │ 0.0               │\n",
      "├────────────────────┼───────────────────┤\n",
      "│ get_input          │ 0.49951171875     │\n",
      "├────────────────────┼───────────────────┤\n",
      "│ get_output         │ 0.501018310546875 │\n",
      "├────────────────────┼───────────────────┤\n",
      "│ get_setpoint       │ 0.49951171875     │\n",
      "├────────────────────┼───────────────────┤\n",
      "│ get_Kp             │ 0.01              │\n",
      "├────────────────────┼───────────────────┤\n",
      "│ get_Ki             │ 2.5               │\n",
      "├────────────────────┼───────────────────┤\n",
      "│ get_Kd             │ 0.0               │\n",
      "╘════════════════════╧═══════════════════╛\n"
     ]
    },
    {
     "name": "stderr",
     "output_type": "stream",
     "text": [
      "\n"
     ]
    }
   ],
   "source": [
    "Arnie.test_sequence()"
   ]
  },
  {
   "cell_type": "code",
   "execution_count": 9,
   "metadata": {
    "ExecuteTime": {
     "end_time": "2020-03-28T22:35:50.738749Z",
     "start_time": "2020-03-28T22:35:50.661475Z"
    }
   },
   "outputs": [],
   "source": [
    "def minimize_cts_dac(cts_dac_sweep_pts, output):\n",
    "    Arnie.set_manual_output(output, output=True)\n",
    "    time.sleep(0.25)\n",
    "    \n",
    "    input_values = list()\n",
    "    for cts_dac_pt in tqdm(cts_dac_sweep_pts):\n",
    "        print(cts_dac_pt)\n",
    "#         Arnie.set_manual_output(cts_dac_pt)\n",
    "#         Arnie.set_cts_dac_output(cts_dac_pt)\n",
    "        time.sleep(0.25)\n",
    "        input_values.append(Arnie.get_input())\n",
    "        time.sleep(0.25)\n",
    "        \n",
    "    y_data = np.array(input_values)\n",
    "    x_data = cts_dac_sweep_pts\n",
    "    \n",
    "    g_offset = np.min(y_data)\n",
    "    g_deriv = 1.0\n",
    "    g_x0 = np.mean(x_data)\n",
    "    \n",
    "    fr = fit.fit1d(x_data, y_data, common.parabola, g_offset, g_deriv, g_x0, ret=True)\n",
    "    \n",
    "    if isinstance(fr, int):\n",
    "        print(\"Fitting failed\")\n",
    "    else:\n",
    "        cts_dac_setpoint = fr['params_dict']['x0']\n",
    "        print(f\"Setting 2nd DAC output to {cts_dac_setpoint:.3f} V\")\n",
    "#         Arnie.set_cts_dac_output(cts_dac_setpoint) # Set the cts dac value to the minimum\n",
    "        Arnie.set_manual_output(None, output=False) # Turn on the controller again\n",
    "        print(f\"Optimized controller!\")\n",
    "        \n",
    "    return x_data, y_data, fr"
   ]
  },
  {
   "cell_type": "code",
   "execution_count": 14,
   "metadata": {
    "ExecuteTime": {
     "end_time": "2020-03-28T22:45:54.406146Z",
     "start_time": "2020-03-28T22:45:45.404864Z"
    }
   },
   "outputs": [
    {
     "name": "stderr",
     "output_type": "stream",
     "text": [
      "\r",
      "  0%|                                                                                           | 0/11 [00:00<?, ?it/s]"
     ]
    },
    {
     "name": "stdout",
     "output_type": "stream",
     "text": [
      "0.25\n"
     ]
    },
    {
     "name": "stderr",
     "output_type": "stream",
     "text": [
      "\r",
      "  9%|███████▌                                                                           | 1/11 [00:00<00:07,  1.31it/s]"
     ]
    },
    {
     "name": "stdout",
     "output_type": "stream",
     "text": [
      "0.275\n"
     ]
    },
    {
     "name": "stderr",
     "output_type": "stream",
     "text": [
      "\r",
      " 18%|███████████████                                                                    | 2/11 [00:01<00:06,  1.32it/s]"
     ]
    },
    {
     "name": "stdout",
     "output_type": "stream",
     "text": [
      "0.3\n"
     ]
    },
    {
     "name": "stderr",
     "output_type": "stream",
     "text": [
      "\r",
      " 27%|██████████████████████▋                                                            | 3/11 [00:02<00:06,  1.32it/s]"
     ]
    },
    {
     "name": "stdout",
     "output_type": "stream",
     "text": [
      "0.325\n"
     ]
    },
    {
     "name": "stderr",
     "output_type": "stream",
     "text": [
      "\r",
      " 36%|██████████████████████████████▏                                                    | 4/11 [00:03<00:05,  1.32it/s]"
     ]
    },
    {
     "name": "stdout",
     "output_type": "stream",
     "text": [
      "0.35\n"
     ]
    },
    {
     "name": "stderr",
     "output_type": "stream",
     "text": [
      "\r",
      " 45%|█████████████████████████████████████▋                                             | 5/11 [00:03<00:04,  1.32it/s]"
     ]
    },
    {
     "name": "stdout",
     "output_type": "stream",
     "text": [
      "0.375\n"
     ]
    },
    {
     "name": "stderr",
     "output_type": "stream",
     "text": [
      "\r",
      " 55%|█████████████████████████████████████████████▎                                     | 6/11 [00:04<00:03,  1.32it/s]"
     ]
    },
    {
     "name": "stdout",
     "output_type": "stream",
     "text": [
      "0.4\n"
     ]
    },
    {
     "name": "stderr",
     "output_type": "stream",
     "text": [
      "\r",
      " 64%|████████████████████████████████████████████████████▊                              | 7/11 [00:05<00:03,  1.32it/s]"
     ]
    },
    {
     "name": "stdout",
     "output_type": "stream",
     "text": [
      "0.42500000000000004\n"
     ]
    },
    {
     "name": "stderr",
     "output_type": "stream",
     "text": [
      "\r",
      " 73%|████████████████████████████████████████████████████████████▎                      | 8/11 [00:06<00:02,  1.32it/s]"
     ]
    },
    {
     "name": "stdout",
     "output_type": "stream",
     "text": [
      "0.45\n"
     ]
    },
    {
     "name": "stderr",
     "output_type": "stream",
     "text": [
      "\r",
      " 82%|███████████████████████████████████████████████████████████████████▉               | 9/11 [00:06<00:01,  1.32it/s]"
     ]
    },
    {
     "name": "stdout",
     "output_type": "stream",
     "text": [
      "0.475\n"
     ]
    },
    {
     "name": "stderr",
     "output_type": "stream",
     "text": [
      "\r",
      " 91%|██████████████████████████████████████████████████████████████████████████▌       | 10/11 [00:07<00:00,  1.33it/s]"
     ]
    },
    {
     "name": "stdout",
     "output_type": "stream",
     "text": [
      "0.5\n"
     ]
    },
    {
     "name": "stderr",
     "output_type": "stream",
     "text": [
      "100%|██████████████████████████████████████████████████████████████████████████████████| 11/11 [00:08<00:00,  1.32it/s]\n"
     ]
    },
    {
     "name": "stdout",
     "output_type": "stream",
     "text": [
      "Setting 2nd DAC output to 0.441 V\n",
      "Optimized controller!\n"
     ]
    },
    {
     "data": {
      "text/plain": [
       "Text(0, 0.5, 'Controller input (V)')"
      ]
     },
     "execution_count": 14,
     "metadata": {},
     "output_type": "execute_result"
    },
    {
     "data": {
      "image/png": "[encoded data removed]",
      "text/plain": [
       "<Figure size 432x288 with 1 Axes>"
      ]
     },
     "metadata": {
      "needs_background": "light"
     },
     "output_type": "display_data"
    }
   ],
   "source": [
    "constant_pid_output = 0.10\n",
    "second_dac_sweep_points = np.linspace(0.25, 0.50, 11)\n",
    "\n",
    "x, y, fr = minimize_cts_dac(second_dac_sweep_points, constant_pid_output)\n",
    "\n",
    "plt.figure()\n",
    "plt.plot(x, y, 'ok')\n",
    "plt.plot(x, fr['params_dict']['a'] + fr['params_dict']['k'] * (x - fr['params_dict']['x0'])**2, '-r')\n",
    "plt.title(f\"Minimization for output = {constant_pid_output:.3f}V\")\n",
    "plt.xlabel(\"Sweep points (V)\")\n",
    "plt.ylabel(\"Controller input (V)\")"
   ]
  },
  {
   "cell_type": "code",
   "execution_count": null,
   "metadata": {},
   "outputs": [],
   "source": []
  }
 ],
 "metadata": {
  "jupytext": {
   "formats": "ipynb,py:percent"
  },
  "kernelspec": {
   "display_name": "Python 3.7 [measurement]",
   "language": "python",
   "name": "measurement"
  },
  "language_info": {
   "codemirror_mode": {
    "name": "ipython",
    "version": 3
   },
   "file_extension": ".py",
   "mimetype": "text/x-python",
   "name": "python",
   "nbconvert_exporter": "python",
   "pygments_lexer": "ipython3",
   "version": "3.8.1"
  },
  "toc": {
   "base_numbering": 1,
   "nav_menu": {},
   "number_sections": true,
   "sideBar": true,
   "skip_h1_title": false,
   "title_cell": "Table of Contents",
   "title_sidebar": "Contents",
   "toc_cell": false,
   "toc_position": {},
   "toc_section_display": true,
   "toc_window_display": false
  }
 },
 "nbformat": 4,
 "nbformat_minor": 4
}
